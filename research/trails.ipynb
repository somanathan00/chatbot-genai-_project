{
 "cells": [
  {
   "cell_type": "code",
   "execution_count": 12,
   "id": "7ab7f9a8",
   "metadata": {},
   "outputs": [],
   "source": [
    "from langchain.document_loaders import PyMuPDFLoader , DirectoryLoader,PyPDFLoader\n",
    "from langchain.text_splitter import RecursiveCharacterTextSplitter\n",
    "from langchain_huggingface import HuggingFaceEmbeddings"
   ]
  },
  {
   "cell_type": "code",
   "execution_count": 2,
   "id": "fd4e2aab",
   "metadata": {},
   "outputs": [],
   "source": [
    "def load_pdf_file(data):\n",
    "    loader=DirectoryLoader(data, glob='*.pdf', loader_cls=PyPDFLoader)\n",
    "    documents=loader.load()\n",
    "    return documents"
   ]
  },
  {
   "cell_type": "code",
   "execution_count": 7,
   "id": "c4dd2718",
   "metadata": {},
   "outputs": [],
   "source": [
    "extracted_data=load_pdf_file(data='/home/somanathan/Desktop/chat_bot/Data')"
   ]
  },
  {
   "cell_type": "code",
   "execution_count": 9,
   "id": "0a327c59",
   "metadata": {},
   "outputs": [],
   "source": [
    "def text_split(extracted_data):\n",
    "    text_splitter= RecursiveCharacterTextSplitter(chunk_size=500, chunk_overlap=20)\n",
    "    text_chunks=text_splitter.split_documents(extracted_data)\n",
    "    return text_chunks"
   ]
  },
  {
   "cell_type": "code",
   "execution_count": 10,
   "id": "388510e5",
   "metadata": {},
   "outputs": [],
   "source": [
    "text_chunks= text_split(extracted_data)"
   ]
  },
  {
   "cell_type": "code",
   "execution_count": 13,
   "id": "11bfc08a",
   "metadata": {},
   "outputs": [],
   "source": [
    "def download_hugging_face_embeddings():\n",
    "    embeddings=HuggingFaceEmbeddings(model_name='sentence-transformers/all-MiniLM-L6-v2')\n",
    "    return embeddings"
   ]
  },
  {
   "cell_type": "code",
   "execution_count": 14,
   "id": "3ad63838",
   "metadata": {},
   "outputs": [
    {
     "name": "stderr",
     "output_type": "stream",
     "text": [
      "/home/somanathan/Desktop/qgreeks-be-platform-apis/.venv/lib/python3.11/site-packages/sentence_transformers/cross_encoder/CrossEncoder.py:13: TqdmExperimentalWarning: Using `tqdm.autonotebook.tqdm` in notebook mode. Use `tqdm.tqdm` instead to force console mode (e.g. in jupyter console)\n",
      "  from tqdm.autonotebook import tqdm, trange\n"
     ]
    },
    {
     "data": {
      "application/vnd.jupyter.widget-view+json": {
       "model_id": "52862ed988e94434aef2e5b8b3e40f26",
       "version_major": 2,
       "version_minor": 0
      },
      "text/plain": [
       "README.md:   0%|          | 0.00/10.5k [00:00<?, ?B/s]"
      ]
     },
     "metadata": {},
     "output_type": "display_data"
    }
   ],
   "source": [
    "embeddings= download_hugging_face_embeddings()"
   ]
  },
  {
   "cell_type": "code",
   "execution_count": 18,
   "id": "4cdafef6",
   "metadata": {},
   "outputs": [
    {
     "data": {
      "text/plain": [
       "384"
      ]
     },
     "execution_count": 18,
     "metadata": {},
     "output_type": "execute_result"
    }
   ],
   "source": [
    "res=embeddings.embed_query('hello world')\n",
    "len(res)"
   ]
  },
  {
   "cell_type": "code",
   "execution_count": 21,
   "id": "49be889a",
   "metadata": {},
   "outputs": [
    {
     "data": {
      "text/plain": [
       "{\n",
       "    \"name\": \"medicalchatbot\",\n",
       "    \"metric\": \"cosine\",\n",
       "    \"host\": \"medicalchatbot-lsay9ft.svc.aped-4627-b74a.pinecone.io\",\n",
       "    \"spec\": {\n",
       "        \"serverless\": {\n",
       "            \"cloud\": \"aws\",\n",
       "            \"region\": \"us-east-1\"\n",
       "        }\n",
       "    },\n",
       "    \"status\": {\n",
       "        \"ready\": true,\n",
       "        \"state\": \"Ready\"\n",
       "    },\n",
       "    \"vector_type\": \"dense\",\n",
       "    \"dimension\": 384,\n",
       "    \"deletion_protection\": \"disabled\",\n",
       "    \"tags\": null\n",
       "}"
      ]
     },
     "execution_count": 21,
     "metadata": {},
     "output_type": "execute_result"
    }
   ],
   "source": [
    "from pinecone import Pinecone, ServerlessSpec\n",
    "from dotenv import  load_dotenv\n",
    "import os\n",
    "load_dotenv()\n",
    "\n",
    "pc = Pinecone(api_key=os.getenv(\"PINECONE_API_KEY\"))\n",
    "index_name = \"medicalchatbot\"\n",
    "\n",
    "pc.create_index(\n",
    "    name=index_name,\n",
    "    dimension=384, # Replace with your model dimensions\n",
    "    metric=\"cosine\", # Replace with your model metric\n",
    "    spec=ServerlessSpec(\n",
    "        cloud=\"aws\",\n",
    "        region=\"us-east-1\"\n",
    "    ) \n",
    ")"
   ]
  },
  {
   "cell_type": "code",
   "execution_count": 22,
   "id": "9c5c9911",
   "metadata": {},
   "outputs": [],
   "source": [
    "from langchain_pinecone import PineconeVectorStore\n",
    "\n",
    "docsearch= PineconeVectorStore.from_documents(\n",
    "    documents=text_chunks,\n",
    "    index_name=index_name,\n",
    "    embedding=embeddings\n",
    ")"
   ]
  },
  {
   "cell_type": "code",
   "execution_count": 23,
   "id": "0a8ea263",
   "metadata": {},
   "outputs": [],
   "source": [
    "docsearch=PineconeVectorStore.from_existing_index(index_name=index_name,embedding=embeddings)"
   ]
  },
  {
   "cell_type": "code",
   "execution_count": 24,
   "id": "55c01aa8",
   "metadata": {},
   "outputs": [],
   "source": [
    "retriever=docsearch.as_retriever(search_type='similarity',search_kwargs={\"k\":3})"
   ]
  },
  {
   "cell_type": "code",
   "execution_count": 25,
   "id": "9e43cec7",
   "metadata": {},
   "outputs": [],
   "source": [
    "result=retriever.invoke(\"what is Acne\")"
   ]
  },
  {
   "cell_type": "code",
   "execution_count": 26,
   "id": "9f59d9e4",
   "metadata": {},
   "outputs": [
    {
     "data": {
      "text/plain": [
       "[Document(id='7b6f8812-51a6-419b-b2dc-8f9ff815305e', metadata={'page': 37.0, 'source': '/home/somanathan/Desktop/chat_bot/Data/Medical_book.pdf'}, page_content='Acidosis seeRespiratory acidosis; Renal\\ntubular acidosis; Metabolic acidosis\\nAcne\\nDefinition\\nAcne is a common skin disease characterized by\\npimples on the face, chest, and back. It occurs when thepores of the skin become clogged with oil, dead skincells, and bacteria.\\nDescription\\nAcne vulgaris, the medical term for common acne, is'),\n",
       " Document(id='c7f95e2e-6faf-4673-bd74-5f4bf5c508a0', metadata={'page': 38.0, 'source': '/home/somanathan/Desktop/chat_bot/Data/Medical_book.pdf'}, page_content='GALE ENCYCLOPEDIA OF MEDICINE 2 25Acne\\nAcne vulgaris affecting a woman’s face. Acne is the general\\nname given to a skin disorder in which the sebaceousglands become inflamed. (Photograph by Biophoto Associ-\\nates, Photo Researchers, Inc. Reproduced by permission.)GEM - 0001 to 0432 - A  10/22/03 1:41 PM  Page 25'),\n",
       " Document(id='26b3415f-5341-44fc-a90c-341908182f03', metadata={'page': 239.0, 'source': '/home/somanathan/Desktop/chat_bot/Data/Medical_book.pdf'}, page_content='ent purposes. For example, lotions, soaps, gels, andcreams containing benzoyl peroxide or tretinoin may beused to clear up mild to moderately severe acne.Isotretinoin (Accutane) is prescribed only for verysevere, disfiguring acne.\\nAcne is a skin condition that occurs when pores or')]"
      ]
     },
     "execution_count": 26,
     "metadata": {},
     "output_type": "execute_result"
    }
   ],
   "source": [
    "result"
   ]
  },
  {
   "cell_type": "code",
   "execution_count": 27,
   "id": "ec7e37ab",
   "metadata": {},
   "outputs": [],
   "source": [
    "from langchain_google_genai import ChatGoogleGenerativeAI\n",
    "llm = ChatGoogleGenerativeAI(\n",
    "    model=\"gemini-2.0-flash\",\n",
    "    temperature=0,\n",
    "    max_tokens=None,\n",
    "    timeout=None,\n",
    "    max_retries=2,\n",
    "    # other params...\n",
    ")"
   ]
  },
  {
   "cell_type": "code",
   "execution_count": 28,
   "id": "c300c846",
   "metadata": {},
   "outputs": [],
   "source": [
    "from langchain.chains import create_retrieval_chain\n",
    "from langchain.chains.combine_documents import create_stuff_documents_chain\n",
    "from langchain_core.prompts import ChatPromptTemplate  "
   ]
  },
  {
   "cell_type": "code",
   "execution_count": 29,
   "id": "1b96a23c",
   "metadata": {},
   "outputs": [],
   "source": [
    "system_prompt=(\n",
    "    \"You are an assistant for question-answering tasks. \"\n",
    "    \"use the following pieces of retieved context to answer \"\n",
    "    \"the question . If you don't know the answer that you \"\n",
    "    \"don't know. Use three sentences maximum and keep the answer concise.\"\n",
    "    \"\\n\\n\"\n",
    "    '{context}'\n",
    ")"
   ]
  },
  {
   "cell_type": "code",
   "execution_count": 30,
   "id": "a246e600",
   "metadata": {},
   "outputs": [],
   "source": [
    "prompt=ChatPromptTemplate.from_messages(\n",
    "    [\n",
    "        ('system',system_prompt),\n",
    "        (\"human\",\"{input}\"),\n",
    "    ]\n",
    ")"
   ]
  },
  {
   "cell_type": "code",
   "execution_count": 31,
   "id": "262932a7",
   "metadata": {},
   "outputs": [],
   "source": [
    "question_answer_chain= create_stuff_documents_chain(llm,prompt)\n",
    "rag_chain=create_retrieval_chain(retriever,question_answer_chain) "
   ]
  },
  {
   "cell_type": "code",
   "execution_count": 39,
   "id": "8b44cbff",
   "metadata": {},
   "outputs": [
    {
     "name": "stdout",
     "output_type": "stream",
     "text": [
      "{'input': 'What is Brain biopsy and its uses', 'context': [Document(id='2b4c53a0-9f6a-4b97-b5e5-4143b179324e', metadata={'page': 588.0, 'source': '/home/somanathan/Desktop/chat_bot/Data/Medical_book.pdf'}, page_content='What You Need to Know About Brain Tumors. <http://rex.\\nnci.nih.gov/WTNK_PUBS/brain/index.htm (28 Septem-ber 1998).\\nRosalyn Carson-DeWitt, M.D.\\nBreast biopsy\\nDefinition\\nA breast biopsy is removal of breast tissue for exam-\\nination by a pathologist. This can be accomplished surgi-cally, or by withdrawing tissue through a needle.\\nPurpose\\nA biopsy is recommended when a significant\\nabnormality is found, either on physical examination'), Document(id='15aa4fec-f249-4965-ba69-7adc4cd5e11b', metadata={'page': 580.0, 'source': '/home/somanathan/Desktop/chat_bot/Data/Medical_book.pdf'}, page_content='tice of Neurology , Ed. Martin Samuels and Steven Feske.\\nNew York: Churchill Livingstone, 1996.\\nWispelwey, Brian, and Carole A. Sable. “Intracranial Suppura-\\ntion.” In Current Therapy of Infectious Disease , Ed. David\\nSchlossberg. St. Louis: Mosby-Year Book, 1996.\\nRichard Robinson\\nBrain aneurysm seeCerebral aneurysm\\nBrain biopsy\\nDefinition\\nA brain biopsy is the removal of a small piece of'), Document(id='8b10590a-c0d4-44c2-a026-9b420cf1edbf', metadata={'page': 580.0, 'source': '/home/somanathan/Desktop/chat_bot/Data/Medical_book.pdf'}, page_content='brain tissue for the diagnosis of abnormalities of thebrain, such as Alzheimer’s disease , tumors, infection, or\\ninflammation.\\nPurpose\\nBy examining the tissue sample under a microscope,\\nthe biopsy sample provides doctors with the informationnecessary to guide diagnosis and treatment.\\nPrecautions\\nImaging of the brain is performed to determine the\\nprecise positioning of the needle to enter the brain.\\nDescription\\nWhen an abnormality of the brain is suspected,')], 'answer': 'A brain biopsy is the removal of a small piece of brain tissue to diagnose abnormalities. These abnormalities can include Alzheimer’s disease, tumors, infection, or inflammation. By examining the tissue sample, doctors can guide diagnosis and treatment.\\n'}\n"
     ]
    }
   ],
   "source": [
    "response=rag_chain.invoke({'input': \"What is Brain biopsy and its uses\"})\n",
    "print(response)"
   ]
  },
  {
   "cell_type": "code",
   "execution_count": 38,
   "id": "b31c6fe4",
   "metadata": {},
   "outputs": [
    {
     "data": {
      "text/plain": [
       "'A brain biopsy is the removal of a small piece of brain tissue to diagnose abnormalities. These abnormalities can include Alzheimer’s disease, tumors, infection, or inflammation. By examining the tissue sample, doctors can guide diagnosis and treatment.\\n'"
      ]
     },
     "execution_count": 38,
     "metadata": {},
     "output_type": "execute_result"
    }
   ],
   "source": [
    "response[\"answer\"]"
   ]
  },
  {
   "cell_type": "code",
   "execution_count": null,
   "id": "b2df33cc",
   "metadata": {},
   "outputs": [],
   "source": []
  }
 ],
 "metadata": {
  "kernelspec": {
   "display_name": ".venv",
   "language": "python",
   "name": "python3"
  },
  "language_info": {
   "codemirror_mode": {
    "name": "ipython",
    "version": 3
   },
   "file_extension": ".py",
   "mimetype": "text/x-python",
   "name": "python",
   "nbconvert_exporter": "python",
   "pygments_lexer": "ipython3",
   "version": "3.11.12"
  }
 },
 "nbformat": 4,
 "nbformat_minor": 5
}
